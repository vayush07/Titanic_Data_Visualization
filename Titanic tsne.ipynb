{
 "cells": [
  {
   "cell_type": "code",
   "execution_count": 3,
   "metadata": {},
   "outputs": [],
   "source": [
    "import numpy as np\n",
    "import pandas as pd\n",
    "from sklearn.preprocessing import StandardScaler\n",
    "from sklearn.decomposition import PCA\n",
    "from sklearn.manifold import TSNE\n",
    "import plotly.graph_objs as go\n",
    "import plotly .offline as offline\n",
    "import plotly.figure_factory as ff"
   ]
  },
  {
   "cell_type": "code",
   "execution_count": 6,
   "metadata": {},
   "outputs": [
    {
     "name": "stdout",
     "output_type": "stream",
     "text": [
      "   Survived  Pclass     Sex   Age     Fare Embarked\n",
      "0         0       3    male  22.0   7.2500        S\n",
      "1         1       1  female  38.0  71.2833        C\n",
      "2         1       3  female  26.0   7.9250        S\n",
      "3         1       1  female  35.0  53.1000        S\n",
      "4         0       3    male  35.0   8.0500        S\n",
      "(712, 6)\n",
      "<class 'pandas.core.frame.DataFrame'>\n",
      "RangeIndex: 712 entries, 0 to 711\n",
      "Data columns (total 6 columns):\n",
      " #   Column    Non-Null Count  Dtype  \n",
      "---  ------    --------------  -----  \n",
      " 0   Survived  712 non-null    int64  \n",
      " 1   Pclass    712 non-null    int64  \n",
      " 2   Sex       712 non-null    object \n",
      " 3   Age       712 non-null    float64\n",
      " 4   Fare      712 non-null    float64\n",
      " 5   Embarked  712 non-null    object \n",
      "dtypes: float64(2), int64(2), object(2)\n",
      "memory usage: 33.5+ KB\n",
      "None\n",
      "         Survived      Pclass         Age        Fare\n",
      "count  712.000000  712.000000  712.000000  712.000000\n",
      "mean     0.404494    2.240169   29.642093   34.567251\n",
      "std      0.491139    0.836854   14.492933   52.938648\n",
      "min      0.000000    1.000000    0.420000    0.000000\n",
      "25%      0.000000    1.000000   20.000000    8.050000\n",
      "50%      0.000000    2.000000   28.000000   15.645850\n",
      "75%      1.000000    3.000000   38.000000   33.000000\n",
      "max      1.000000    3.000000   80.000000  512.329200\n"
     ]
    }
   ],
   "source": [
    "# Importing dataset and examining it\n",
    "dataset = pd.read_csv('/Users/ayushvarhadi/Desktop/Assignment/Titanic.csv')\n",
    "print(dataset.head())\n",
    "print(dataset.shape)\n",
    "print(dataset.info())\n",
    "print(dataset.describe())"
   ]
  },
  {
   "cell_type": "code",
   "execution_count": 7,
   "metadata": {},
   "outputs": [
    {
     "data": {
      "text/plain": [
       "'corrheatmap.html'"
      ]
     },
     "execution_count": 7,
     "metadata": {},
     "output_type": "execute_result"
    }
   ],
   "source": [
    "# Plotting Correlation Heatmap\n",
    "corrs = dataset.corr()\n",
    "figure = ff.create_annotated_heatmap(\n",
    "    z=corrs.values,\n",
    "    x=list(corrs.columns),\n",
    "    y=list(corrs.index),\n",
    "    annotation_text=corrs.round(2).values,\n",
    "    showscale=True)\n",
    "offline.plot(figure,filename='corrheatmap.html')"
   ]
  },
  {
   "cell_type": "code",
   "execution_count": 8,
   "metadata": {},
   "outputs": [
    {
     "name": "stdout",
     "output_type": "stream",
     "text": [
      "   Survived  Pclass  Sex  Age     Fare Embarked\n",
      "0         0       3    1    0   7.2500        S\n",
      "1         1       1    0    0  71.2833        C\n",
      "2         1       3    0    0   7.9250        S\n",
      "3         1       1    0    0  53.1000        S\n",
      "4         0       3    1    0   8.0500        S\n",
      "<class 'pandas.core.frame.DataFrame'>\n",
      "RangeIndex: 712 entries, 0 to 711\n",
      "Data columns (total 6 columns):\n",
      " #   Column    Non-Null Count  Dtype  \n",
      "---  ------    --------------  -----  \n",
      " 0   Survived  712 non-null    int64  \n",
      " 1   Pclass    712 non-null    int64  \n",
      " 2   Sex       712 non-null    int64  \n",
      " 3   Age       712 non-null    int64  \n",
      " 4   Fare      712 non-null    float64\n",
      " 5   Embarked  712 non-null    object \n",
      "dtypes: float64(1), int64(4), object(1)\n",
      "memory usage: 33.5+ KB\n",
      "None\n"
     ]
    }
   ],
   "source": [
    "# Converting Categorical features into Numerical features\n",
    "dataset['Sex'] = dataset['Sex'].map({'male':1, 'female':0})\n",
    "\n",
    "# Defining Child & Adult\n",
    "def converter(column):\n",
    "    if column <= 13:\n",
    "        return 1 # Child\n",
    "    else:\n",
    "        return 0 # Adult\n",
    "\n",
    "dataset['Age'] = dataset['Age'].apply(converter)\n",
    "print(dataset.head())\n",
    "print(dataset.info())\n"
   ]
  },
  {
   "cell_type": "code",
   "execution_count": 9,
   "metadata": {},
   "outputs": [
    {
     "name": "stdout",
     "output_type": "stream",
     "text": [
      "<class 'pandas.core.frame.DataFrame'>\n",
      "<class 'pandas.core.series.Series'>\n",
      "(712, 3)\n",
      "(712,)\n"
     ]
    }
   ],
   "source": [
    "# Dividing dataset into label and feature sets\n",
    "X = dataset.drop(['Survived','Embarked', 'Fare'], axis = 1) # Features\n",
    "Y = dataset['Survived'] # Labels\n",
    "print(type(X))\n",
    "print(type(Y))\n",
    "print(X.shape)\n",
    "print(Y.shape)"
   ]
  },
  {
   "cell_type": "code",
   "execution_count": 10,
   "metadata": {},
   "outputs": [],
   "source": [
    "# Normalizing numerical features so that each feature has mean 0 and variance 1\n",
    "feature_scaler = StandardScaler()\n",
    "X_scaled = feature_scaler.fit_transform(X)\n"
   ]
  },
  {
   "cell_type": "code",
   "execution_count": 11,
   "metadata": {},
   "outputs": [
    {
     "name": "stdout",
     "output_type": "stream",
     "text": [
      "Variance explained by each of the n_components:  [0.3937737  0.35985149]\n",
      "Total variance explained by the n_components:  0.7536251924038924\n"
     ]
    }
   ],
   "source": [
    "# Implementing PCA to visualize dataset\n",
    "pca = PCA(n_components = 2)\n",
    "pca.fit(X_scaled)\n",
    "x_pca = pca.transform(X_scaled)\n",
    "print(\"Variance explained by each of the n_components: \",pca.explained_variance_ratio_)\n",
    "print(\"Total variance explained by the n_components: \",sum(pca.explained_variance_ratio_))"
   ]
  },
  {
   "cell_type": "code",
   "execution_count": 12,
   "metadata": {},
   "outputs": [
    {
     "data": {
      "text/plain": [
       "'pca.html'"
      ]
     },
     "execution_count": 12,
     "metadata": {},
     "output_type": "execute_result"
    }
   ],
   "source": [
    "survival= list(dataset['Survived'])\n",
    "age = list(dataset['Age'])\n",
    "sex = list(dataset['Sex'])\n",
    "pclass = list(dataset['Pclass'])\n",
    "data = [go.Scatter(x=x_pca[:,0], y=x_pca[:,1], mode='markers',\n",
    "                    marker = dict(color=Y, colorscale='Rainbow', opacity=0.5),\n",
    "                                text=[f'Survived: {a}; Age: {b}; Sex:{c}, Pclass:{d}' for a,b,c,d in list(zip(survival,age,sex,pclass))],\n",
    "                                hoverinfo='text')]\n",
    "\n",
    "layout = go.Layout(title = 'PCA Dimensionality Reduction', width = 700, height = 700,\n",
    "                    xaxis = dict(title='First Principal Component'),\n",
    "                    yaxis = dict(title='Second Principal Component'))\n",
    "fig = go.Figure(data=data, layout=layout)\n",
    "offline.plot(fig,filename='pca.html')\n"
   ]
  },
  {
   "cell_type": "code",
   "execution_count": 21,
   "metadata": {},
   "outputs": [
    {
     "data": {
      "text/plain": [
       "'t-SNE.html'"
      ]
     },
     "execution_count": 21,
     "metadata": {},
     "output_type": "execute_result"
    }
   ],
   "source": [
    "# Implementing t-SNE to visualize dataset\n",
    "tsne = TSNE(n_components = 2, perplexity = 5,n_iter=2000)\n",
    "x_tsne = tsne.fit_transform(X_scaled)\n",
    "\n",
    "data = [go.Scatter(x=x_tsne[:,0], y=x_tsne[:,1], mode='markers',\n",
    "                    marker = dict(color=Y, colorscale='Rainbow', opacity=0.5),\n",
    "                                text=[f'Survived: {a}; Age: {b}; Sex:{c}, Pclass:{d}' for a,b,c,d in list(zip(survival,age,sex,pclass))],\n",
    "                                hoverinfo='text')]\n",
    "\n",
    "layout = go.Layout(title = 't-SNE Dimensionality Reduction', width = 700, height = 700,\n",
    "                    xaxis = dict(title='First Dimension'),\n",
    "                    yaxis = dict(title='Second Dimension'))\n",
    "fig = go.Figure(data=data, layout=layout)\n",
    "offline.plot(fig,filename='t-SNE.html')\n"
   ]
  },
  {
   "cell_type": "code",
   "execution_count": null,
   "metadata": {},
   "outputs": [],
   "source": []
  }
 ],
 "metadata": {
  "kernelspec": {
   "display_name": "Python 3",
   "language": "python",
   "name": "python3"
  },
  "language_info": {
   "codemirror_mode": {
    "name": "ipython",
    "version": 3
   },
   "file_extension": ".py",
   "mimetype": "text/x-python",
   "name": "python",
   "nbconvert_exporter": "python",
   "pygments_lexer": "ipython3",
   "version": "3.7.6"
  }
 },
 "nbformat": 4,
 "nbformat_minor": 4
}
